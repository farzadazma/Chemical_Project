{
 "cells": [
  {
   "cell_type": "code",
   "execution_count": 7,
   "id": "5dccfeed",
   "metadata": {
    "colab": {
     "base_uri": "https://localhost:8080/"
    },
    "id": "5dccfeed",
    "outputId": "daa7f44f-a8c0-4e1e-f052-b4978638a9a8"
   },
   "outputs": [
    {
     "name": "stdout",
     "output_type": "stream",
     "text": [
      "sigma_z = [32.43362208892302, 49.85328655014319, 77.72322717388829, 104.6688697186655]\n",
      "sigma_y = [54.77109831546902, 84.14326767108506, 130.89758865613126, 175.8454010281441]\n",
      "(Qt): C(x,y=0,z=0)=  [0.00022752449280532058, 0.00019120467603931575, 0.00010599636716346487, 6.428927929566276e-05]\n",
      "sigma_z = [32.43362208892302, 49.85328655014319, 77.72322717388829, 104.6688697186655]\n",
      "sigma_y = [54.77109831546902, 84.14326767108506, 130.89758865613126, 175.8454010281441]\n",
      "(Qe): C(x,y=0,z=0)=  [0.00045504898561064117, 0.0003824093520786315, 0.00021199273432692973, 0.00012857855859132553]\n"
     ]
    }
   ],
   "source": [
    "# constant parameters\n",
    "#50ton mixture\n",
    "import numpy as np\n",
    "import math\n",
    "Qt = 5*1000*1000*50*.0000001                     #2,3,7,8-tetrachlorodibenzo-p-dioxin, at concentration 50 ppm (weight)\n",
    "Qe = 5*1000*100*1000*.0000001                    #1,2,3,6,7,8-esachlorodibenzo-p-dioxin  at concentration 100 ppm (weight)\n",
    "h = 50                                      #50 meters stack height\n",
    "z=0                                         #at ground surface\n",
    "x = [0.5,0.8,1.3,1.8]                       #km distance from source \n",
    "u = 6                                       # m/s speed of wind in height of 100 meter\n",
    "sigma_z = []\n",
    "sigma_y = []\n",
    "C = []\n",
    "for i in x:                                  #forQt\n",
    "    z = 61.141*(i**0.91465)                  #stability calss is considered as C class\n",
    "    sigma_z.append(z)  \n",
    "print('sigma_z =',sigma_z)\n",
    "for i in x:\n",
    "    theta = 0.017453293*(12.5-1.0857*np.log(i))\n",
    "    y = 465.11628*i*math.tan(theta)\n",
    "    sigma_y.append(y) \n",
    "print('sigma_y =',sigma_y)\n",
    "for i in range(len(x)):\n",
    "    A1 = Qt/(2*math.pi*u*sigma_z[i]*sigma_y[i])\n",
    "    A2 = math.exp((-h**2)/(2*(sigma_z[i])**2))\n",
    "    A3 = math.exp((-h**2)/(2*(sigma_z[i])**2))\n",
    "    C1 = A1*(A2+A3)             \n",
    "    C.append(C1)\n",
    "print('(Qt):','C(x,y=0,z=0)= ',C) \n",
    "sigma_z = []\n",
    "sigma_y = []\n",
    "C = []\n",
    "for i in x:                                  #forQe\n",
    "    z = 61.141*(i**0.91465)                  #stability calss is considered as C class\n",
    "    sigma_z.append(z)  \n",
    "print('sigma_z =',sigma_z)\n",
    "for i in x:\n",
    "    theta = 0.017453293*(12.5-1.0857*np.log(i))\n",
    "    y = 465.11628*i*math.tan(theta)\n",
    "    sigma_y.append(y) \n",
    "print('sigma_y =',sigma_y)\n",
    "for i in range(len(x)):\n",
    "    A1 = Qe/(2*math.pi*u*sigma_z[i]*sigma_y[i])\n",
    "    A2 = math.exp((-h**2)/(2*(sigma_z[i])**2))\n",
    "    A3 = math.exp((-h**2)/(2*(sigma_z[i])**2))\n",
    "    C1 = A1*(A2+A3)             \n",
    "    C.append(C1)\n",
    "print('(Qe):','C(x,y=0,z=0)= ',C) \n"
   ]
  },
  {
   "cell_type": "code",
   "execution_count": null,
   "id": "696b0d96",
   "metadata": {
    "id": "696b0d96"
   },
   "outputs": [],
   "source": []
  },
  {
   "cell_type": "code",
   "execution_count": null,
   "id": "8ef8988c",
   "metadata": {
    "id": "8ef8988c"
   },
   "outputs": [],
   "source": []
  }
 ],
 "metadata": {
  "colab": {
   "collapsed_sections": [],
   "name": "desktop.ipynb",
   "provenance": []
  },
  "kernelspec": {
   "display_name": "Python 3 (ipykernel)",
   "language": "python",
   "name": "python3"
  },
  "language_info": {
   "codemirror_mode": {
    "name": "ipython",
    "version": 3
   },
   "file_extension": ".py",
   "mimetype": "text/x-python",
   "name": "python",
   "nbconvert_exporter": "python",
   "pygments_lexer": "ipython3",
   "version": "3.9.13"
  }
 },
 "nbformat": 4,
 "nbformat_minor": 5
}
