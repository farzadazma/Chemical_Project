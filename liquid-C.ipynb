{
 "cells": [
  {
   "cell_type": "code",
   "execution_count": null,
   "metadata": {
    "id": "MUtFt33Kfc2H"
   },
   "outputs": [],
   "source": []
  },
  {
   "cell_type": "code",
   "execution_count": null,
   "metadata": {
    "colab": {
     "base_uri": "https://localhost:8080/"
    },
    "id": "3w_K8FWbjEYQ",
    "outputId": "c5f6ab5d-9268-4eb0-b09a-8356484600cb"
   },
   "outputs": [
    {
     "name": "stdout",
     "output_type": "stream",
     "text": [
      "C_benzen:\n",
      "In distances of [0.5,2,4] km\n",
      "In times[0.01,50,200]\n",
      "0.00059766\n",
      "0.00250573\n",
      "0.00250573\n",
      "0.0\n",
      "0.00224295\n",
      "0.00224295\n",
      "0.0\n",
      "0.00193494\n",
      "0.00193493\n",
      "C_toluene:\n",
      "In distances of [0.5,2,4] km\n",
      "In times[0.01,50,200]\n",
      "0.00119532\n",
      "0.00501147\n",
      "0.00501147\n",
      "0.0\n",
      "0.0044859\n",
      "0.0044859\n",
      "0.0\n",
      "0.00386988\n",
      "0.00386987\n"
     ]
    }
   ],
   "source": [
    "import math\n",
    "Cb = 2.6*10**(-3)                      #initial source concentration\n",
    "lambda1 = 0.15                         #first order decay constant\n",
    "lambda_src1 =0.0\n",
    "Dx = 8                                 #longitutional dispersion coefficient\n",
    "v = 0.4*3.6                            #the average pore scale velocity of the fluid  \n",
    "x = [0.5,2,4]                          #distances from the source of emission in river to city in downstream\n",
    "t = [0.01,50,200]                      #time in seconds\n",
    "u = math.sqrt(v**2+(4*lambda1*Dx)-(4*lambda_src1*Dx))\n",
    "print('C_benzen:\\nIn distances of [0.5,2,4] km\\nIn times[0.01,50,200]')\n",
    "for  i in x:\n",
    "    for  j in t:\n",
    "        A1 = (Cb/2)*math.exp((v*i)/(2*Dx))    \n",
    "        A2 = math.exp((-u*i)/(2*Dx))\n",
    "        A3 = math.erfc((i-u*j)/(2*math.sqrt(Dx*j)))\n",
    "        A4 = math.exp((u*i)/Dx)\n",
    "        A5 = math.erfc((i+u*j)/(2*math.sqrt(Dx*j)))\n",
    "        C = A1*(A2*A3+A4*A5)                             #c(x,t) \n",
    "        print(round(C,8))\n",
    "Ct = 2*2.6*10**(-3)       \n",
    "print('C_toluene:\\nIn distances of [0.5,2,4] km\\nIn times[0.01,50,200]')\n",
    "for  i in x:\n",
    "    for  j in t:\n",
    "        A1 = (Ct/2)*math.exp((v*i)/(2*Dx))    \n",
    "        A2 = math.exp((-u*i)/(2*Dx))\n",
    "        A3 = math.erfc((i-u*j)/(2*math.sqrt(Dx*j)))\n",
    "        A4 = math.exp((u*i)/Dx)\n",
    "        A5 = math.erfc((i+u*j)/(2*math.sqrt(Dx*j)))\n",
    "        C = A1*(A2*A3+A4*A5)                              #c(x,t) \n",
    "        print(round(C,8))\n",
    "\n",
    "\n",
    "\n"
   ]
  }
 ],
 "metadata": {
  "colab": {
   "name": "Untitled7.ipynb",
   "provenance": []
  },
  "kernelspec": {
   "display_name": "Python 3 (ipykernel)",
   "language": "python",
   "name": "python3"
  },
  "language_info": {
   "codemirror_mode": {
    "name": "ipython",
    "version": 3
   },
   "file_extension": ".py",
   "mimetype": "text/x-python",
   "name": "python",
   "nbconvert_exporter": "python",
   "pygments_lexer": "ipython3",
   "version": "3.9.13"
  }
 },
 "nbformat": 4,
 "nbformat_minor": 1
}
